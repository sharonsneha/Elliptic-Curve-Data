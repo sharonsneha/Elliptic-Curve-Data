{
 "cells": [
  {
   "cell_type": "code",
   "execution_count": 5,
   "id": "5eb2e22e",
   "metadata": {},
   "outputs": [],
   "source": [
    "import os\n",
    "import pandas as pd"
   ]
  },
  {
   "cell_type": "code",
   "execution_count": 10,
   "id": "9c66ba5a",
   "metadata": {},
   "outputs": [],
   "source": [
    "#Make a list of all files in directory that end with 'output.txt'\n",
    "path = 'C:/Users/sneha/Documents/LearningPython'\n",
    "outputs = [f for f in os.listdir(path) if (f.endswith('output.txt')]\n",
    "# check = outputs[0:3]\n",
    "# print(check)\n",
    "# print(len(outputs))"
   ]
  },
  {
   "cell_type": "code",
   "execution_count": 8,
   "id": "b78de9c6",
   "metadata": {},
   "outputs": [
    {
     "ename": "KeyboardInterrupt",
     "evalue": "",
     "output_type": "error",
     "traceback": [
      "\u001b[1;31m---------------------------------------------------------------------------\u001b[0m",
      "\u001b[1;31mKeyboardInterrupt\u001b[0m                         Traceback (most recent call last)",
      "\u001b[1;32m~\\AppData\\Local\\Temp/ipykernel_3480/1524537920.py\u001b[0m in \u001b[0;36m<module>\u001b[1;34m\u001b[0m\n\u001b[0;32m     41\u001b[0m \u001b[1;33m\u001b[0m\u001b[0m\n\u001b[0;32m     42\u001b[0m \u001b[1;31m#Do this for every file! Note: Edit to make this do it for multiple files at once.\u001b[0m\u001b[1;33m\u001b[0m\u001b[1;33m\u001b[0m\u001b[0m\n\u001b[1;32m---> 43\u001b[1;33m \u001b[0mall_files_to_df\u001b[0m \u001b[1;33m=\u001b[0m \u001b[0mlist\u001b[0m\u001b[1;33m(\u001b[0m\u001b[0mmap\u001b[0m\u001b[1;33m(\u001b[0m\u001b[0mfile_to_df\u001b[0m\u001b[1;33m,\u001b[0m \u001b[0moutputs\u001b[0m\u001b[1;33m)\u001b[0m\u001b[1;33m)\u001b[0m\u001b[1;33m\u001b[0m\u001b[1;33m\u001b[0m\u001b[0m\n\u001b[0m\u001b[0;32m     44\u001b[0m \u001b[1;31m# print(all_files_to_df[0:3])\u001b[0m\u001b[1;33m\u001b[0m\u001b[1;33m\u001b[0m\u001b[0m\n\u001b[0;32m     45\u001b[0m \u001b[1;33m\u001b[0m\u001b[0m\n",
      "\u001b[1;32m~\\AppData\\Local\\Temp/ipykernel_3480/1524537920.py\u001b[0m in \u001b[0;36mfile_to_df\u001b[1;34m(file_name)\u001b[0m\n\u001b[0;32m      2\u001b[0m     \u001b[1;31m#Add file name to the path so we can find the file in the folder\u001b[0m\u001b[1;33m\u001b[0m\u001b[1;33m\u001b[0m\u001b[0m\n\u001b[0;32m      3\u001b[0m     \u001b[0mfile_path\u001b[0m \u001b[1;33m=\u001b[0m \u001b[0mpath\u001b[0m \u001b[1;33m+\u001b[0m \u001b[1;34m'/'\u001b[0m \u001b[1;33m+\u001b[0m \u001b[0mfile_name\u001b[0m\u001b[1;33m\u001b[0m\u001b[1;33m\u001b[0m\u001b[0m\n\u001b[1;32m----> 4\u001b[1;33m     \u001b[0mfile1\u001b[0m \u001b[1;33m=\u001b[0m \u001b[0mopen\u001b[0m\u001b[1;33m(\u001b[0m\u001b[0mfile_path\u001b[0m\u001b[1;33m)\u001b[0m\u001b[1;33m\u001b[0m\u001b[1;33m\u001b[0m\u001b[0m\n\u001b[0m\u001b[0;32m      5\u001b[0m \u001b[1;33m\u001b[0m\u001b[0m\n\u001b[0;32m      6\u001b[0m     \u001b[1;31m#Put everything in the file in a list\u001b[0m\u001b[1;33m\u001b[0m\u001b[1;33m\u001b[0m\u001b[0m\n",
      "\u001b[1;32m~\\anaconda3\\lib\\_bootlocale.py\u001b[0m in \u001b[0;36mgetpreferredencoding\u001b[1;34m(do_setlocale)\u001b[0m\n\u001b[0;32m      9\u001b[0m \u001b[1;33m\u001b[0m\u001b[0m\n\u001b[0;32m     10\u001b[0m \u001b[1;32mif\u001b[0m \u001b[0msys\u001b[0m\u001b[1;33m.\u001b[0m\u001b[0mplatform\u001b[0m\u001b[1;33m.\u001b[0m\u001b[0mstartswith\u001b[0m\u001b[1;33m(\u001b[0m\u001b[1;34m\"win\"\u001b[0m\u001b[1;33m)\u001b[0m\u001b[1;33m:\u001b[0m\u001b[1;33m\u001b[0m\u001b[1;33m\u001b[0m\u001b[0m\n\u001b[1;32m---> 11\u001b[1;33m     \u001b[1;32mdef\u001b[0m \u001b[0mgetpreferredencoding\u001b[0m\u001b[1;33m(\u001b[0m\u001b[0mdo_setlocale\u001b[0m\u001b[1;33m=\u001b[0m\u001b[1;32mTrue\u001b[0m\u001b[1;33m)\u001b[0m\u001b[1;33m:\u001b[0m\u001b[1;33m\u001b[0m\u001b[1;33m\u001b[0m\u001b[0m\n\u001b[0m\u001b[0;32m     12\u001b[0m         \u001b[1;32mif\u001b[0m \u001b[0msys\u001b[0m\u001b[1;33m.\u001b[0m\u001b[0mflags\u001b[0m\u001b[1;33m.\u001b[0m\u001b[0mutf8_mode\u001b[0m\u001b[1;33m:\u001b[0m\u001b[1;33m\u001b[0m\u001b[1;33m\u001b[0m\u001b[0m\n\u001b[0;32m     13\u001b[0m             \u001b[1;32mreturn\u001b[0m \u001b[1;34m'UTF-8'\u001b[0m\u001b[1;33m\u001b[0m\u001b[1;33m\u001b[0m\u001b[0m\n",
      "\u001b[1;31mKeyboardInterrupt\u001b[0m: "
     ]
    }
   ],
   "source": [
    "def file_to_df(file_name):\n",
    "    #Add file name to the path so we can find the file in the folder\n",
    "    file_path = path + '/' + file_name\n",
    "    file1 = open(file_path)\n",
    "    \n",
    "    #Put everything in the file in a list\n",
    "    file_output = file1.readlines()\n",
    "    \n",
    "    #Initialize a new list\n",
    "    curves = []\n",
    "    \n",
    "    #Go through the file and put each row of the file (a, b, splits, rank) into the list 'curves'\n",
    "    for row in file_output:\n",
    "        if row[0] == '*':\n",
    "            curves.append(row.strip('* '))\n",
    "            \n",
    "    #Save the information at the end of the file about memory usage and time to compute\n",
    "    last_line = file_output[-1].split()\n",
    "    time_to_compute = float(last_line[2])\n",
    "    memory_in_MB = float(last_line[-1].strip('MB'))\n",
    "    \n",
    "    #Each entry in curves is a string 'a b splits rank'. To have these as separate columns,\n",
    "    #we need each to be a list. \n",
    "    \n",
    "    curves_for_df = []\n",
    "    for curve in curves:\n",
    "        curves_for_df.append(curve.split(' '))\n",
    "    \n",
    "    #Remove the \\n from the last entry\n",
    "    for curve in curves_for_df:\n",
    "        curve[3] = curve[3][0]\n",
    "    \n",
    "    #Create a Pandas dataframe with this info\n",
    "    df = pd.DataFrame(curves_for_df, columns = ['a', 'b', 'Number of splits', 'Rank'])\n",
    "    \n",
    "    file1.close()\n",
    "    #Return the data frame, time_to_compute, memory_in_MB\n",
    "    return df, time_to_compute, memory_in_MB\n",
    "    \n",
    "# print(file_to_df(outputs[0]))\n",
    "            \n",
    "#Do this for every file! Note: Edit to make this do it for multiple files at once. \n",
    "all_files_to_df = list(map(file_to_df, outputs))\n",
    "# print(all_files_to_df[0:3])\n",
    "\n",
    "#Combine dataframes from each to one large dataframe. This is yucky and there's probably a better way to do it, but it works.\n",
    "a = []\n",
    "b = []\n",
    "splits = []\n",
    "ranks = []\n",
    "for file in all_files_to_df:\n",
    "    df_file = file[0]\n",
    "    a_file = df_file['a'].tolist()\n",
    "    b_file = df_file['b'].tolist()\n",
    "    splits_file = df_file['Number of splits'].tolist()\n",
    "    rank_file = df_file['Rank'].tolist()\n",
    "    for n in a_file:\n",
    "        a.append(n)\n",
    "    for n in b_file:\n",
    "        b.append(n)\n",
    "    for n in splits_file:\n",
    "        splits.append(n)\n",
    "    for n in rank_file:\n",
    "        ranks.append(n)\n",
    "        \n",
    "data = {'a': a, 'b': b, 'Number of splits': splits , 'Rank': ranks}\n",
    "\n",
    "df = pd.DataFrame(data)\n",
    "\n",
    "# print(df)\n",
    "\n",
    "df.to_csv('elliptic_curve_data.csv', index=False) \n"
   ]
  },
  {
   "cell_type": "code",
   "execution_count": 9,
   "id": "5a7b1205",
   "metadata": {
    "scrolled": true
   },
   "outputs": [
    {
     "data": {
      "image/png": "[encoded data removed]",
      "text/plain": [
       "<Figure size 432x288 with 1 Axes>"
      ]
     },
     "metadata": {},
     "output_type": "display_data"
    }
   ],
   "source": [
    "import matplotlib.pyplot as plt\n",
    "import seaborn as sns\n",
    "\n",
    "#Read in the data from the csv file\n",
    "curve_data = pd.read_csv('elliptic_curve_data.csv')\n",
    "\n",
    "# sets the style of the bar charts\n",
    "sns.set(style=\"whitegrid\")\n",
    "\n",
    "# title\n",
    "plt.title('Rank of Elliptic Curves with C3 Torsion', fontsize=16)\n",
    "\n",
    "# plots a vertical bar chart\n",
    "sns.countplot(x='Rank', color=\"b\", data=curve_data);\n",
    "\n",
    "# saves the image\n",
    "plt.savefig(\"all_ranks.png\")\n",
    "\n",
    "# shows the image\n",
    "plt.show()\n",
    "\n"
   ]
  },
  {
   "cell_type": "code",
   "execution_count": null,
   "id": "5b7c538a",
   "metadata": {},
   "outputs": [],
   "source": []
  },
  {
   "cell_type": "code",
   "execution_count": null,
   "id": "625587f1",
   "metadata": {},
   "outputs": [],
   "source": [
    "#Plot ranks for specific numbers of split primes \n",
    "\n",
    "#If there are exactly 0 splits:\n",
    "\n",
    "# sets the style of the bar charts\n",
    "sns.set(style=\"whitegrid\")\n",
    "\n",
    "# title\n",
    "plt.title('Ranks of Curves with 0 Splits', fontsize=16)\n",
    "\n",
    "#Selects only the rows with 0 split:\n",
    "zero_split = curve_data[curve_data['Number of splits']==0]\n",
    "\n",
    "# plots a vertical bar chart\n",
    "sns.countplot(x='Rank', color=\"b\", data=zero_split);\n",
    "\n",
    "# saves the image\n",
    "plt.savefig(\"zero_splits.png\")\n",
    "\n",
    "# shows the image\n",
    "plt.show()"
   ]
  },
  {
   "cell_type": "code",
   "execution_count": null,
   "id": "894d8a66",
   "metadata": {},
   "outputs": [],
   "source": [
    "print(curve_data['a'].max())\n",
    "print(curve_data['a'].min())\n",
    "print(curve_data['b'].max())\n",
    "print(curve_data['b'].min())"
   ]
  },
  {
   "cell_type": "code",
   "execution_count": null,
   "id": "56e59663",
   "metadata": {},
   "outputs": [],
   "source": [
    "for a:= -1099 to 1099 do\n",
    "for b:=1 to 1199 do\n",
    "if (a^3*b^3-27*b^4) ne 0 then\n",
    "E:=EllipticCurve([a,0,b,0,0]);\n",
    "B:=BadPrimes(E);\n",
    "additives:=0;\n",
    "nonsplits :=0;\n",
    "for i:=1 to #B do\n",
    "if ReductionType(E,B[i]) eq \"Additive\" then\n",
    "additives :=additives+1;\n",
    "if ReductionType(E,B[i]) eq \"Nonsplit multiplicative\" then\n",
    "nonsplits :=nonsplits+1;\n",
    "end if;\n",
    "end if;\n",
    "end for;\n",
    "print \"*\",a,b,additives, nonsplits;\n",
    "end if;\n",
    "end for;\n",
    "end for;\n",
    "quit;"
   ]
  },
  {
   "cell_type": "code",
   "execution_count": 9,
   "id": "535fd3e5",
   "metadata": {},
   "outputs": [
    {
     "name": "stdout",
     "output_type": "stream",
     "text": [
      "           a     b  Number of splits  Rank\n",
      "18         0    19                 0     2\n",
      "29         0    30                 0     2\n",
      "36         0    37                 0     2\n",
      "2448       0  1001                 0     2\n",
      "2455       0  1008                 0     2\n",
      "...      ...   ...               ...   ...\n",
      "1376008 -910    65                 0     2\n",
      "1376579 -999    37                 0     2\n",
      "1383473 -960   180                 0     2\n",
      "1385494 -969    51                 0     2\n",
      "1385983 -960    90                 0     2\n",
      "\n",
      "[405 rows x 4 columns]\n"
     ]
    }
   ],
   "source": [
    "somethings_wrong = zero_split[zero_split['Rank']==2]\n",
    "print(somethings_wrong)"
   ]
  },
  {
   "cell_type": "code",
   "execution_count": 14,
   "id": "430fe39d",
   "metadata": {},
   "outputs": [
    {
     "name": "stdout",
     "output_type": "stream",
     "text": [
      "[0, 0, 0, 0, 0, 0, 0, 0, 0, 0, 0, 0, 0, 0, 0, 0, 0, 0, 0, 0, 0, 0, 0, 0, 0, 0, 0, 0, 0, 0, 0, 0, 30, 0, 0, 0, 0, 0, 0, 0, 0, 0, 0, 0, 0, 0, 0, 0, 0, 0, 0, 0, 0, 0, 0, 0, 0, 0, 0, 0, 0, 0, 0, 0, 0, 0, 0, 0, 0, 0, 0, 0, 0, 0, 0, 0, 0, 0, 0, 0, 0, 0, 42, 0, 0, 0, 0, 0, 0, 0, 0, 0, 0, 0, 0, 0, 0, 0, 0, 0, 0, 0, 0, 0, 0, 0, 0, 0, 0, 0, 0, 0, 0, 0, 0, 0, 0, 0, 0, 0, 0, 0, 0, 0, 0, 0, 0, 0, 0, 0, 0, 0, 0, 0, 0, 0, 0, 0, 0, 0, 0, 0, 0, 0, 0, 0, 0, 0, 0, 0, 0, 0, 0, 0, 0, 0, -30, 0, 0, 0, 0, 0, 0, 0, 0, 0, 0, 0, 0, 0, 0, 0, 0, 0, 0, 0, 0, 0, 0, 0, 0, 0, 0, 0, 0, 0, 0, 0, 0, 0, 0, 0, 0, 0, 0, 0, 0, 0, 0, 0, 0, 0, 0, 0, 0, 0, 0, 0, 0, 0, 0, 0, 0, 0, 0, 0, 0, 0, 0, 0, 0, 0, 0, 0, 0, 0, 0, 0, 0, 0, 0, 0, 0, 0, 0, 0, 0, 0, 0, 0, 0, 0, 0, 0, 0, 0, 0, 0, 0, 0, 0, 0, 0, 0, 0, 0, 0, 126, 114, 124, 105, 102, 124, 130, 110, 171, 186, 182, 220, 240, 201, 210, 204, 218, 248, 273, 290, 285, 260, 260, 342, 342, 309, 335, 340, 348, 325, 325, 396, 374, 430, 426, 440, 407, 446, 456, 453, 462, 513, 504, 528, 513, 520, 86, 66, 62, 65, 597, 574, 561, 590, 600, 612, 603, 660, 666, 654, 684, 660, 684, 726, 798, 780, 804, 816, 813, 819, 870, 872, 868, 910, 930, 910, 990, 992, 992, -1032, -1020, -120, -120, -130, -120, -102, -120, -186, -248, -204, -228, -218, -240, -260, -254, -260, -344, -330, -325, -310, -336, -330, -325, -396, -372, -390, -360, -360, -430, -462, -480, -455, -549, -546, -510, -78, -86, -60, -57, -84, -66, -65, -60, -570, -636, -620, -654, -680, -654, -660, -688, -663, -660, -720, -714, -741, -720, -756, -780, -816, -806, -855, -946, -910, -999, -960, -969, -960]\n",
      "[19, 30, 37, 1001, 1008, 1016, 1022, 1027, 1038, 110, 124, 126, 127, 132, 1055, 1056, 1063, 1073, 1099, 1101, 1130, 1132, 1140, 1150, 1155, 1171, 1190, 152, 153, 163, 182, 183, 180, 201, 203, 209, 210, 217, 218, 219, 240, 246, 254, 271, 273, 282, 296, 309, 335, 342, 345, 348, 370, 379, 390, 397, 399, 407, 420, 433, 435, 436, 446, 453, 462, 468, 469, 477, 497, 498, 506, 513, 520, 523, 65, 86, 91, 554, 559, 579, 581, 590, 588, 614, 615, 628, 631, 635, 639, 651, 658, 671, 688, 713, 714, 721, 728, 730, 786, 793, 794, 810, 813, 825, 829, 851, 855, 866, 874, 880, 883, 885, 901, 903, 905, 916, 919, 924, 930, 937, 940, 946, 957, 966, 973, 988, 992, 995, 999, 19, 30, 37, 1001, 1008, 1016, 1022, 1027, 1038, 110, 124, 126, 127, 132, 1055, 1056, 1063, 1073, 1099, 1101, 1130, 1132, 1140, 1150, 1155, 1171, 1190, 150, 152, 153, 163, 182, 183, 201, 203, 209, 210, 217, 218, 219, 240, 246, 254, 271, 273, 282, 296, 309, 335, 342, 345, 348, 370, 379, 390, 397, 399, 407, 420, 433, 435, 436, 446, 453, 462, 468, 469, 477, 497, 498, 506, 513, 520, 523, 65, 86, 91, 554, 559, 579, 581, 590, 614, 615, 628, 631, 635, 639, 651, 658, 671, 688, 713, 714, 721, 728, 730, 786, 793, 794, 810, 813, 825, 829, 851, 855, 866, 874, 880, 883, 885, 901, 903, 905, 916, 919, 924, 930, 937, 940, 946, 957, 966, 973, 988, 992, 995, 999, 126, 228, 496, 525, 51, 62, 65, 550, 19, 124, 182, 110, 150, 201, 210, 408, 436, 496, 273, 290, 361, 520, 65, 19, 152, 309, 335, 340, 522, 65, 845, 66, 748, 172, 213, 220, 407, 446, 361, 453, 462, 19, 126, 132, 513, 520, 172, 396, 62, 845, 199, 287, 561, 590, 180, 153, 201, 30, 37, 109, 152, 330, 342, 132, 228, 65, 201, 204, 271, 91, 150, 218, 62, 182, 180, 65, 132, 124, 62, 86, 60, 180, 450, 65, 60, 612, 900, 124, 124, 306, 361, 436, 480, 520, 508, 845, 172, 90, 65, 62, 588, 550, 845, 132, 124, 180, 150, 60, 86, 132, 60, 65, 183, 182, 255, 1014, 172, 300, 361, 588, 726, 845, 900, 361, 318, 496, 218, 340, 436, 450, 86, 51, 60, 150, 306, 361, 60, 126, 180, 102, 124, 19, 172, 65, 37, 180, 51, 90]\n"
     ]
    }
   ],
   "source": [
    "#Make a list of the all the a and b values of curves with 0 splits and rank 2:\n",
    "\n",
    "#Is the rank bounded by the number of additive primes? \n",
    "\n",
    "a_rank_2 = somethings_wrong['a'].tolist()\n",
    "print(a_rank_2)\n",
    "\n",
    "b_rank_2 = somethings_wrong['b'].tolist()\n",
    "print(b_rank_2)\n"
   ]
  },
  {
   "cell_type": "code",
   "execution_count": 7,
   "id": "cada2a98",
   "metadata": {},
   "outputs": [
    {
     "data": {
      "image/png": "[encoded data removed]",
      "text/plain": [
       "<Figure size 432x288 with 1 Axes>"
      ]
     },
     "metadata": {},
     "output_type": "display_data"
    }
   ],
   "source": [
    "#If there are exactly 1 splits:\n",
    "\n",
    "# sets the style of the bar charts\n",
    "sns.set(style=\"whitegrid\")\n",
    "\n",
    "# title\n",
    "plt.title('Ranks of Curves with 1 Split', fontsize=16)\n",
    "\n",
    "#Selects only the rows with 0 split:\n",
    "one_split = curve_data[curve_data['Number of splits']==1]\n",
    "# plots a vertical bar chart\n",
    "sns.countplot(x='Rank', color=\"b\", data=one_split);\n",
    "\n",
    "# saves the image\n",
    "plt.savefig(\"one_splits.png\")\n",
    "\n",
    "# shows the image\n",
    "plt.show()"
   ]
  },
  {
   "cell_type": "code",
   "execution_count": 10,
   "id": "4e06cd03",
   "metadata": {},
   "outputs": [
    {
     "name": "stdout",
     "output_type": "stream",
     "text": [
      "           a    b  Number of splits  Rank\n",
      "146315   130  325                 1     3\n",
      "179909   102  969                 1     3\n",
      "220828   172  688                 1     3\n",
      "473358   455   65                 1     3\n",
      "536268    65  325                 1     3\n",
      "549829    86   86                 1     3\n",
      "552513    90  570                 1     3\n",
      "558346    57  703                 1     3\n",
      "601259   566  566                 1     3\n",
      "635858   660  165                 1     3\n",
      "661725   728  182                 1     3\n",
      "784801  -102  408                 1     3\n",
      "788413  -130  520                 1     3\n",
      "818783  -171   19                 1     3\n",
      "825725  -182  182                 1     3\n",
      "826215  -172  172                 1     3\n",
      "878224  -231  231                 1     3\n",
      "878371  -228  228                 1     3\n",
      "878665  -222  222                 1     3\n",
      "897763  -240  570                 1     3\n",
      "927733  -290  290                 1     3\n",
      "927880  -287  287                 1     3\n",
      "963063  -333   37                 1     3\n",
      "967545  -342  152                 1     3\n",
      "977173  -300  330                 1     3\n",
      "1052662 -438  219                 1     3\n",
      "1064445 -402  402                 1     3\n",
      "1084717 -496  124                 1     3\n",
      "1118825 -513   19                 1     3\n",
      "1121769 -504  126                 1     3\n",
      "1140130 -537  537                 1     3\n",
      "1140375 -532  532                 1     3\n",
      "1141306 -513  513                 1     3\n",
      "1183658  -65   65                 1     3\n",
      "1184344  -51   51                 1     3\n",
      "1199913  -90  870                 1     3\n",
      "1206862  -51  969                 1     3\n",
      "1241195 -612  102                 1     3\n",
      "1242502 -636  159                 1     3\n",
      "1275989 -666  296                 1     3\n",
      "1344368 -845  325                 1     3\n",
      "1348184 -819   91                 1     3\n",
      "1353167 -868  124                 1     3\n",
      "1358956 -852  213                 1     3\n",
      "1372824 -924  231                 1     3\n"
     ]
    }
   ],
   "source": [
    "test = one_split[one_split['Rank']==3]\n",
    "print(test)"
   ]
  },
  {
   "cell_type": "code",
   "execution_count": 11,
   "id": "48a9d56d",
   "metadata": {},
   "outputs": [
    {
     "data": {
      "image/png": "[encoded data removed]",
      "text/plain": [
       "<Figure size 432x288 with 1 Axes>"
      ]
     },
     "metadata": {},
     "output_type": "display_data"
    }
   ],
   "source": [
    "#If there are exactly 2 splits:\n",
    "\n",
    "# sets the style of the bar charts\n",
    "sns.set(style=\"whitegrid\")\n",
    "\n",
    "# title\n",
    "plt.title('Ranks of Curves with 2 Splits', fontsize=16)\n",
    "\n",
    "#Selects only the rows with 0 split:\n",
    "two_split = curve_data[curve_data['Number of splits']==2]\n",
    "# plots a vertical bar chart\n",
    "sns.countplot(x='Rank', color=\"b\", data=two_split);\n",
    "\n",
    "# saves the image\n",
    "plt.savefig(\"two_splits.png\")\n",
    "\n",
    "# shows the image\n",
    "plt.show()"
   ]
  },
  {
   "cell_type": "code",
   "execution_count": 17,
   "id": "92e1a9d4",
   "metadata": {},
   "outputs": [
    {
     "data": {
      "image/png": "[encoded data removed]",
      "text/plain": [
       "<Figure size 432x288 with 1 Axes>"
      ]
     },
     "metadata": {},
     "output_type": "display_data"
    }
   ],
   "source": [
    "#If there are exactly 3 splits:\n",
    "\n",
    "# sets the style of the bar charts\n",
    "sns.set(style=\"whitegrid\")\n",
    "\n",
    "# title\n",
    "plt.title('Ranks of Curves with 3 Splits', fontsize=16)\n",
    "\n",
    "#Selects only the rows with 0 split:\n",
    "three_split = curve_data[curve_data['Number of splits']==3]\n",
    "# plots a vertical bar chart\n",
    "sns.countplot(x='Rank', color=\"b\", data=three_split);\n",
    "\n",
    "# saves the image\n",
    "plt.savefig(\"three_splits.png\")\n",
    "\n",
    "# shows the image\n",
    "plt.show()"
   ]
  },
  {
   "cell_type": "code",
   "execution_count": 13,
   "id": "73ed8eda",
   "metadata": {},
   "outputs": [
    {
     "name": "stdout",
     "output_type": "stream",
     "text": [
      "           a     b  Number of splits  Rank\n",
      "5257       6   111                 2     3\n",
      "6606      33   111                 2     3\n",
      "9578      42  1083                 2     3\n",
      "9872      48  1077                 2     3\n",
      "12814      7  1169                 2     3\n",
      "...      ...   ...               ...   ...\n",
      "1364738 -936     9                 2     3\n",
      "1367197 -936   104                 2     3\n",
      "1367646 -927   103                 2     3\n",
      "1376209 -906    66                 2     3\n",
      "1384984 -980    91                 2     3\n",
      "\n",
      "[795 rows x 4 columns]\n"
     ]
    }
   ],
   "source": [
    "test = two_split[two_split['Rank']==3]\n",
    "print(test)"
   ]
  },
  {
   "cell_type": "code",
   "execution_count": 17,
   "id": "d1e61364",
   "metadata": {},
   "outputs": [
    {
     "name": "stdout",
     "output_type": "stream",
     "text": [
      "           a     b  Number of splits  Rank\n",
      "49931     49   791                 3     4\n",
      "59409     39   969                 3     4\n",
      "137167   147  1077                 3     4\n",
      "325747   273   807                 3     4\n",
      "358521   329   581                 3     4\n",
      "390843   377   403                 3     4\n",
      "430243   416   403                 3     4\n",
      "552574    91   581                 3     4\n",
      "571866    77   973                 3     4\n",
      "635852   660   159                 3     4\n",
      "707503   846   210                 3     4\n",
      "805506  -138   813                 3     4\n",
      "888650  -222   407                 3     4\n",
      "908934  -217   791                 3     4\n",
      "974742  -349   349                 3     4\n",
      "1062485 -442   442                 3     4\n",
      "1204612  -96   969                 3     4\n",
      "1377094 -988    13                 3     4\n",
      "Number of curves: 18\n",
      "Probability that curves with 3 splits equal the bound: 3.9995289443687746e-05\n"
     ]
    }
   ],
   "source": [
    "three_split = curve_data[curve_data['Number of splits']==3]\n",
    "rank4_3splits = three_split[three_split['Rank']==4]\n",
    "print(rank4_3splits)\n",
    "print('Number of curves:', rank4_3splits.shape[0])\n",
    "prob_eq_bound =  rank4_3splits.shape[0] / three_split.shape[0]\n",
    "print('Probability that curves with 3 splits equal the bound:', prob_eq_bound)"
   ]
  },
  {
   "cell_type": "code",
   "execution_count": 14,
   "id": "cb43e84b",
   "metadata": {},
   "outputs": [
    {
     "name": "stdout",
     "output_type": "stream",
     "text": [
      "           a     b  Number of splits  Rank\n",
      "49931     49   791                 3     4\n",
      "59409     39   969                 3     4\n",
      "137167   147  1077                 3     4\n",
      "141657   137   217                 5     4\n",
      "144121   136   281                 5     4\n",
      "...      ...   ...               ...   ...\n",
      "1204612  -96   969                 3     4\n",
      "1282808 -679   415                 5     4\n",
      "1341938 -844   295                 7     4\n",
      "1368306 -914   113                 5     4\n",
      "1377094 -988    13                 3     4\n",
      "\n",
      "[76 rows x 4 columns]\n"
     ]
    }
   ],
   "source": [
    "rank4_curves = curve_data[curve_data['Rank']==4]\n",
    "print(rank4_curves)"
   ]
  },
  {
   "cell_type": "code",
   "execution_count": 21,
   "id": "929f0926",
   "metadata": {},
   "outputs": [
    {
     "data": {
      "text/plain": [
       "4"
      ]
     },
     "execution_count": 21,
     "metadata": {},
     "output_type": "execute_result"
    }
   ],
   "source": [
    "curve_data['Rank'].max()"
   ]
  }
 ],
 "metadata": {
  "kernelspec": {
   "display_name": "Python 3 (ipykernel)",
   "language": "python",
   "name": "python3"
  },
  "language_info": {
   "codemirror_mode": {
    "name": "ipython",
    "version": 3
   },
   "file_extension": ".py",
   "mimetype": "text/x-python",
   "name": "python",
   "nbconvert_exporter": "python",
   "pygments_lexer": "ipython3",
   "version": "3.9.7"
  }
 },
 "nbformat": 4,
 "nbformat_minor": 5
}
